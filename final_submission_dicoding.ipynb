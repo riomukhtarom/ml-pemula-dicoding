{
 "cells": [
  {
   "cell_type": "markdown",
   "metadata": {},
   "source": [
    "# Final Submission"
   ]
  },
  {
   "cell_type": "markdown",
   "metadata": {},
   "source": [
    "### Mengimport Library yang digunakan"
   ]
  },
  {
   "cell_type": "code",
   "execution_count": 1,
   "metadata": {},
   "outputs": [],
   "source": [
    "from tensorflow.keras.preprocessing.image import ImageDataGenerator\n",
    "from tensorflow.keras.models import Sequential\n",
    "from tensorflow.keras.layers import Conv2D\n",
    "from tensorflow.keras.layers import MaxPooling2D\n",
    "from tensorflow.keras.layers import Flatten\n",
    "from tensorflow.keras.layers import Dense\n",
    "from tensorflow.keras.layers import BatchNormalization\n",
    "from tensorflow.keras.layers import Dropout\n",
    "from tensorflow.keras.optimizers import Adam\n",
    "from datetime import datetime\n",
    "import matplotlib.pyplot as plt\n",
    "import tensorflow as tf\n",
    "import os"
   ]
  },
  {
   "cell_type": "code",
   "execution_count": 2,
   "metadata": {},
   "outputs": [
    {
     "output_type": "stream",
     "name": "stdout",
     "text": "2.0.0\n"
    }
   ],
   "source": [
    "print(tf.__version__)"
   ]
  },
  {
   "attachments": {},
   "cell_type": "markdown",
   "metadata": {},
   "source": [
    "### Mendfinisikan Directory, ukuran gambar, dan jumlah Epoch"
   ]
  },
  {
   "cell_type": "code",
   "execution_count": 3,
   "metadata": {},
   "outputs": [],
   "source": [
    "root_dir = 'rps-cv-images'\n",
    "train_dir = os.path.join(root_dir, 'train')\n",
    "test_dir = os.path.join(root_dir, 'test')\n",
    "val_dir = os.path.join(root_dir, 'val')\n",
    "image_size = (100,150)\n",
    "height = 100\n",
    "width = 150\n",
    "depth = 3\n",
    "epochs = 10\n",
    "batch_size = 10"
   ]
  },
  {
   "cell_type": "code",
   "execution_count": 4,
   "metadata": {},
   "outputs": [
    {
     "output_type": "execute_result",
     "data": {
      "text/plain": "['paper', 'rock', 'scissors']"
     },
     "metadata": {},
     "execution_count": 4
    }
   ],
   "source": [
    "os.listdir(test_dir)"
   ]
  },
  {
   "cell_type": "markdown",
   "metadata": {},
   "source": [
    "### Membuat ImageDataGenerator"
   ]
  },
  {
   "cell_type": "code",
   "execution_count": 5,
   "metadata": {},
   "outputs": [],
   "source": [
    "image_datagen = ImageDataGenerator(\n",
    "    rescale=1./255,\n",
    "    rotation_range=15,\n",
    "    horizontal_flip=True,\n",
    "    shear_range=0.2,\n",
    "    fill_mode='nearest'\n",
    ")"
   ]
  },
  {
   "cell_type": "markdown",
   "metadata": {},
   "source": [
    "### Meload Gambar"
   ]
  },
  {
   "cell_type": "code",
   "execution_count": 6,
   "metadata": {},
   "outputs": [
    {
     "output_type": "stream",
     "name": "stdout",
     "text": "Data Train\nFound 1800 images belonging to 3 classes.\nData Validasi\nFound 194 images belonging to 3 classes.\nData Test\nFound 194 images belonging to 3 classes.\n"
    }
   ],
   "source": [
    "## Data Train\n",
    "print('Data Train')\n",
    "train_data = image_datagen.flow_from_directory(\n",
    "    train_dir,\n",
    "    target_size=image_size,\n",
    "    batch_size=batch_size,\n",
    "    class_mode='binary'\n",
    ")\n",
    "\n",
    "## Data Validasi\n",
    "print('Data Validasi')\n",
    "val_data = image_datagen.flow_from_directory(\n",
    "    val_dir,\n",
    "    target_size=image_size,\n",
    "    batch_size=batch_size,\n",
    "    class_mode='binary'\n",
    ")\n",
    "\n",
    "## Data Test\n",
    "print('Data Test')\n",
    "test_data = image_datagen.flow_from_directory(\n",
    "    test_dir,\n",
    "    target_size=image_size,\n",
    "    batch_size=batch_size,\n",
    "    class_mode='binary'\n",
    ")"
   ]
  },
  {
   "cell_type": "markdown",
   "metadata": {},
   "source": [
    "### Membuat Model Arsitektur CNN"
   ]
  },
  {
   "cell_type": "code",
   "execution_count": 7,
   "metadata": {},
   "outputs": [],
   "source": [
    "def cnn(input_shape):\n",
    "    name = 'cnn'\n",
    "    model = Sequential(name=name)\n",
    "    model.add(Conv2D(16, (3,3), activation='relu', input_shape=input_shape))\n",
    "    model.add(BatchNormalization())\n",
    "    model.add(MaxPooling2D(4,4))\n",
    "    model.add(Dropout(0.25))\n",
    "    model.add(Conv2D(16, (3,3), activation='relu'))\n",
    "    model.add(BatchNormalization())\n",
    "    model.add(Conv2D(16, (3,3), activation='relu'))\n",
    "    model.add(BatchNormalization())\n",
    "    model.add(MaxPooling2D(2,2))\n",
    "    model.add(Dropout(0.25))\n",
    "    model.add(Conv2D(16, (5,5), activation='relu'))\n",
    "    model.add(BatchNormalization())\n",
    "    model.add(Conv2D(16, (5,5), activation='relu'))\n",
    "    model.add(BatchNormalization())\n",
    "    model.add(MaxPooling2D(2,2))\n",
    "    model.add(Dropout(0.25))\n",
    "    model.add(Flatten())\n",
    "    model.add(Dense(256, activation='relu'))\n",
    "    model.add(Dense(1024, activation='relu'))\n",
    "    model.add(Dense(512, activation='relu'))\n",
    "    model.add(Dense(3, activation='sigmoid'))\n",
    "    return model"
   ]
  },
  {
   "cell_type": "code",
   "execution_count": 8,
   "metadata": {},
   "outputs": [],
   "source": [
    "input_shape = (height, width, depth)\n",
    "model = cnn(input_shape)"
   ]
  },
  {
   "cell_type": "code",
   "execution_count": 9,
   "metadata": {
    "scrolled": true
   },
   "outputs": [
    {
     "output_type": "stream",
     "name": "stdout",
     "text": "Model: \"cnn\"\n_________________________________________________________________\nLayer (type)                 Output Shape              Param #   \n=================================================================\nconv2d (Conv2D)              (None, 98, 148, 16)       448       \n_________________________________________________________________\nbatch_normalization (BatchNo (None, 98, 148, 16)       64        \n_________________________________________________________________\nmax_pooling2d (MaxPooling2D) (None, 24, 37, 16)        0         \n_________________________________________________________________\ndropout (Dropout)            (None, 24, 37, 16)        0         \n_________________________________________________________________\nconv2d_1 (Conv2D)            (None, 22, 35, 16)        2320      \n_________________________________________________________________\nbatch_normalization_1 (Batch (None, 22, 35, 16)        64        \n_________________________________________________________________\nconv2d_2 (Conv2D)            (None, 20, 33, 16)        2320      \n_________________________________________________________________\nbatch_normalization_2 (Batch (None, 20, 33, 16)        64        \n_________________________________________________________________\nmax_pooling2d_1 (MaxPooling2 (None, 10, 16, 16)        0         \n_________________________________________________________________\ndropout_1 (Dropout)          (None, 10, 16, 16)        0         \n_________________________________________________________________\nconv2d_3 (Conv2D)            (None, 6, 12, 16)         6416      \n_________________________________________________________________\nbatch_normalization_3 (Batch (None, 6, 12, 16)         64        \n_________________________________________________________________\nconv2d_4 (Conv2D)            (None, 2, 8, 16)          6416      \n_________________________________________________________________\nbatch_normalization_4 (Batch (None, 2, 8, 16)          64        \n_________________________________________________________________\nmax_pooling2d_2 (MaxPooling2 (None, 1, 4, 16)          0         \n_________________________________________________________________\ndropout_2 (Dropout)          (None, 1, 4, 16)          0         \n_________________________________________________________________\nflatten (Flatten)            (None, 64)                0         \n_________________________________________________________________\ndense (Dense)                (None, 256)               16640     \n_________________________________________________________________\ndense_1 (Dense)              (None, 1024)              263168    \n_________________________________________________________________\ndense_2 (Dense)              (None, 512)               524800    \n_________________________________________________________________\ndense_3 (Dense)              (None, 3)                 1539      \n=================================================================\nTotal params: 824,387\nTrainable params: 824,227\nNon-trainable params: 160\n_________________________________________________________________\n"
    }
   ],
   "source": [
    "model.summary()"
   ]
  },
  {
   "cell_type": "code",
   "execution_count": 10,
   "metadata": {},
   "outputs": [],
   "source": [
    "def compile_and_fit(model, num_epochs):\n",
    "    model.compile(\n",
    "        loss= 'sparse_categorical_crossentropy', \n",
    "        optimizer= Adam(lr=1e-3, decay=1e-3 / num_epochs),\n",
    "        metrics= ['accuracy']\n",
    "    )\n",
    "\n",
    "    history = model.fit(\n",
    "        train_data,\n",
    "        steps_per_epoch=100,\n",
    "        epochs=num_epochs,\n",
    "        validation_data=val_data,\n",
    "        validation_steps=10,\n",
    "        verbose=1\n",
    "    )\n",
    "\n",
    "    return history"
   ]
  },
  {
   "cell_type": "markdown",
   "metadata": {},
   "source": [
    "### Melakukan Training Model"
   ]
  },
  {
   "cell_type": "code",
   "execution_count": 11,
   "metadata": {},
   "outputs": [
    {
     "output_type": "stream",
     "name": "stdout",
     "text": "Train for 100 steps, validate for 10 steps\nEpoch 1/10\n100/100 [==============================] - 43s 430ms/step - loss: 1.0179 - accuracy: 0.4500 - val_loss: 1.1012 - val_accuracy: 0.4000\nEpoch 2/10\n100/100 [==============================] - 29s 290ms/step - loss: 0.9002 - accuracy: 0.5610 - val_loss: 1.8896 - val_accuracy: 0.3100\nEpoch 3/10\n100/100 [==============================] - 31s 307ms/step - loss: 0.6820 - accuracy: 0.6380 - val_loss: 1.3579 - val_accuracy: 0.3100\nEpoch 4/10\n100/100 [==============================] - 38s 377ms/step - loss: 0.5905 - accuracy: 0.6950 - val_loss: 1.4786 - val_accuracy: 0.5000\nEpoch 5/10\n100/100 [==============================] - 35s 351ms/step - loss: 0.4444 - accuracy: 0.8270 - val_loss: 2.0671 - val_accuracy: 0.5200\nEpoch 6/10\n100/100 [==============================] - 29s 292ms/step - loss: 0.2465 - accuracy: 0.9250 - val_loss: 0.3732 - val_accuracy: 0.9100\nEpoch 7/10\n100/100 [==============================] - 29s 294ms/step - loss: 0.2075 - accuracy: 0.9380 - val_loss: 0.3364 - val_accuracy: 0.8900\nEpoch 8/10\n100/100 [==============================] - 28s 284ms/step - loss: 0.2270 - accuracy: 0.9330 - val_loss: 0.2483 - val_accuracy: 0.9400\nEpoch 9/10\n100/100 [==============================] - 29s 292ms/step - loss: 0.1349 - accuracy: 0.9500 - val_loss: 0.0441 - val_accuracy: 0.9900\nEpoch 10/10\n100/100 [==============================] - 30s 302ms/step - loss: 0.1649 - accuracy: 0.9530 - val_loss: 0.3110 - val_accuracy: 0.8900\n"
    }
   ],
   "source": [
    "time_start = datetime.now()\n",
    "model_history = compile_and_fit(model, epochs)\n",
    "time_finish = datetime.now()\n",
    "duration = time_finish - time_start"
   ]
  },
  {
   "cell_type": "code",
   "execution_count": 12,
   "metadata": {},
   "outputs": [
    {
     "output_type": "stream",
     "name": "stdout",
     "text": "Training Duration 0:06:17.835632\n"
    }
   ],
   "source": [
    "print('Training Duration', str(duration))"
   ]
  },
  {
   "cell_type": "markdown",
   "metadata": {},
   "source": [
    "### Grafik perubahan epoch terhadap Akurasi"
   ]
  },
  {
   "cell_type": "code",
   "execution_count": 13,
   "metadata": {},
   "outputs": [
    {
     "output_type": "display_data",
     "data": {
      "text/plain": "<Figure size 432x288 with 1 Axes>",
      "image/svg+xml": "<?xml version=\"1.0\" encoding=\"utf-8\" standalone=\"no\"?>\r\n<!DOCTYPE svg PUBLIC \"-//W3C//DTD SVG 1.1//EN\"\r\n  \"http://www.w3.org/Graphics/SVG/1.1/DTD/svg11.dtd\">\r\n<!-- Created with matplotlib (https://matplotlib.org/) -->\r\n<svg height=\"263.63625pt\" version=\"1.1\" viewBox=\"0 0 372.103125 263.63625\" width=\"372.103125pt\" xmlns=\"http://www.w3.org/2000/svg\" xmlns:xlink=\"http://www.w3.org/1999/xlink\">\r\n <defs>\r\n  <style type=\"text/css\">\r\n*{stroke-linecap:butt;stroke-linejoin:round;}\r\n  </style>\r\n </defs>\r\n <g id=\"figure_1\">\r\n  <g id=\"patch_1\">\r\n   <path d=\"M 0 263.63625 \r\nL 372.103125 263.63625 \r\nL 372.103125 0 \r\nL 0 0 \r\nz\r\n\" style=\"fill:none;\"/>\r\n  </g>\r\n  <g id=\"axes_1\">\r\n   <g id=\"patch_2\">\r\n    <path d=\"M 30.103125 239.758125 \r\nL 364.903125 239.758125 \r\nL 364.903125 22.318125 \r\nL 30.103125 22.318125 \r\nz\r\n\" style=\"fill:#ffffff;\"/>\r\n   </g>\r\n   <g id=\"matplotlib.axis_1\">\r\n    <g id=\"xtick_1\">\r\n     <g id=\"line2d_1\">\r\n      <defs>\r\n       <path d=\"M 0 0 \r\nL 0 3.5 \r\n\" id=\"m54241e52a9\" style=\"stroke:#000000;stroke-width:0.8;\"/>\r\n      </defs>\r\n      <g>\r\n       <use style=\"stroke:#000000;stroke-width:0.8;\" x=\"79.139489\" xlink:href=\"#m54241e52a9\" y=\"239.758125\"/>\r\n      </g>\r\n     </g>\r\n     <g id=\"text_1\">\r\n      <!-- 2 -->\r\n      <defs>\r\n       <path d=\"M 19.1875 8.296875 \r\nL 53.609375 8.296875 \r\nL 53.609375 0 \r\nL 7.328125 0 \r\nL 7.328125 8.296875 \r\nQ 12.9375 14.109375 22.625 23.890625 \r\nQ 32.328125 33.6875 34.8125 36.53125 \r\nQ 39.546875 41.84375 41.421875 45.53125 \r\nQ 43.3125 49.21875 43.3125 52.78125 \r\nQ 43.3125 58.59375 39.234375 62.25 \r\nQ 35.15625 65.921875 28.609375 65.921875 \r\nQ 23.96875 65.921875 18.8125 64.3125 \r\nQ 13.671875 62.703125 7.8125 59.421875 \r\nL 7.8125 69.390625 \r\nQ 13.765625 71.78125 18.9375 73 \r\nQ 24.125 74.21875 28.421875 74.21875 \r\nQ 39.75 74.21875 46.484375 68.546875 \r\nQ 53.21875 62.890625 53.21875 53.421875 \r\nQ 53.21875 48.921875 51.53125 44.890625 \r\nQ 49.859375 40.875 45.40625 35.40625 \r\nQ 44.1875 33.984375 37.640625 27.21875 \r\nQ 31.109375 20.453125 19.1875 8.296875 \r\nz\r\n\" id=\"DejaVuSans-50\"/>\r\n      </defs>\r\n      <g transform=\"translate(75.958239 254.356563)scale(0.1 -0.1)\">\r\n       <use xlink:href=\"#DejaVuSans-50\"/>\r\n      </g>\r\n     </g>\r\n    </g>\r\n    <g id=\"xtick_2\">\r\n     <g id=\"line2d_2\">\r\n      <g>\r\n       <use style=\"stroke:#000000;stroke-width:0.8;\" x=\"146.775852\" xlink:href=\"#m54241e52a9\" y=\"239.758125\"/>\r\n      </g>\r\n     </g>\r\n     <g id=\"text_2\">\r\n      <!-- 4 -->\r\n      <defs>\r\n       <path d=\"M 37.796875 64.3125 \r\nL 12.890625 25.390625 \r\nL 37.796875 25.390625 \r\nz\r\nM 35.203125 72.90625 \r\nL 47.609375 72.90625 \r\nL 47.609375 25.390625 \r\nL 58.015625 25.390625 \r\nL 58.015625 17.1875 \r\nL 47.609375 17.1875 \r\nL 47.609375 0 \r\nL 37.796875 0 \r\nL 37.796875 17.1875 \r\nL 4.890625 17.1875 \r\nL 4.890625 26.703125 \r\nz\r\n\" id=\"DejaVuSans-52\"/>\r\n      </defs>\r\n      <g transform=\"translate(143.594602 254.356563)scale(0.1 -0.1)\">\r\n       <use xlink:href=\"#DejaVuSans-52\"/>\r\n      </g>\r\n     </g>\r\n    </g>\r\n    <g id=\"xtick_3\">\r\n     <g id=\"line2d_3\">\r\n      <g>\r\n       <use style=\"stroke:#000000;stroke-width:0.8;\" x=\"214.412216\" xlink:href=\"#m54241e52a9\" y=\"239.758125\"/>\r\n      </g>\r\n     </g>\r\n     <g id=\"text_3\">\r\n      <!-- 6 -->\r\n      <defs>\r\n       <path d=\"M 33.015625 40.375 \r\nQ 26.375 40.375 22.484375 35.828125 \r\nQ 18.609375 31.296875 18.609375 23.390625 \r\nQ 18.609375 15.53125 22.484375 10.953125 \r\nQ 26.375 6.390625 33.015625 6.390625 \r\nQ 39.65625 6.390625 43.53125 10.953125 \r\nQ 47.40625 15.53125 47.40625 23.390625 \r\nQ 47.40625 31.296875 43.53125 35.828125 \r\nQ 39.65625 40.375 33.015625 40.375 \r\nz\r\nM 52.59375 71.296875 \r\nL 52.59375 62.3125 \r\nQ 48.875 64.0625 45.09375 64.984375 \r\nQ 41.3125 65.921875 37.59375 65.921875 \r\nQ 27.828125 65.921875 22.671875 59.328125 \r\nQ 17.53125 52.734375 16.796875 39.40625 \r\nQ 19.671875 43.65625 24.015625 45.921875 \r\nQ 28.375 48.1875 33.59375 48.1875 \r\nQ 44.578125 48.1875 50.953125 41.515625 \r\nQ 57.328125 34.859375 57.328125 23.390625 \r\nQ 57.328125 12.15625 50.6875 5.359375 \r\nQ 44.046875 -1.421875 33.015625 -1.421875 \r\nQ 20.359375 -1.421875 13.671875 8.265625 \r\nQ 6.984375 17.96875 6.984375 36.375 \r\nQ 6.984375 53.65625 15.1875 63.9375 \r\nQ 23.390625 74.21875 37.203125 74.21875 \r\nQ 40.921875 74.21875 44.703125 73.484375 \r\nQ 48.484375 72.75 52.59375 71.296875 \r\nz\r\n\" id=\"DejaVuSans-54\"/>\r\n      </defs>\r\n      <g transform=\"translate(211.230966 254.356563)scale(0.1 -0.1)\">\r\n       <use xlink:href=\"#DejaVuSans-54\"/>\r\n      </g>\r\n     </g>\r\n    </g>\r\n    <g id=\"xtick_4\">\r\n     <g id=\"line2d_4\">\r\n      <g>\r\n       <use style=\"stroke:#000000;stroke-width:0.8;\" x=\"282.04858\" xlink:href=\"#m54241e52a9\" y=\"239.758125\"/>\r\n      </g>\r\n     </g>\r\n     <g id=\"text_4\">\r\n      <!-- 8 -->\r\n      <defs>\r\n       <path d=\"M 31.78125 34.625 \r\nQ 24.75 34.625 20.71875 30.859375 \r\nQ 16.703125 27.09375 16.703125 20.515625 \r\nQ 16.703125 13.921875 20.71875 10.15625 \r\nQ 24.75 6.390625 31.78125 6.390625 \r\nQ 38.8125 6.390625 42.859375 10.171875 \r\nQ 46.921875 13.96875 46.921875 20.515625 \r\nQ 46.921875 27.09375 42.890625 30.859375 \r\nQ 38.875 34.625 31.78125 34.625 \r\nz\r\nM 21.921875 38.8125 \r\nQ 15.578125 40.375 12.03125 44.71875 \r\nQ 8.5 49.078125 8.5 55.328125 \r\nQ 8.5 64.0625 14.71875 69.140625 \r\nQ 20.953125 74.21875 31.78125 74.21875 \r\nQ 42.671875 74.21875 48.875 69.140625 \r\nQ 55.078125 64.0625 55.078125 55.328125 \r\nQ 55.078125 49.078125 51.53125 44.71875 \r\nQ 48 40.375 41.703125 38.8125 \r\nQ 48.828125 37.15625 52.796875 32.3125 \r\nQ 56.78125 27.484375 56.78125 20.515625 \r\nQ 56.78125 9.90625 50.3125 4.234375 \r\nQ 43.84375 -1.421875 31.78125 -1.421875 \r\nQ 19.734375 -1.421875 13.25 4.234375 \r\nQ 6.78125 9.90625 6.78125 20.515625 \r\nQ 6.78125 27.484375 10.78125 32.3125 \r\nQ 14.796875 37.15625 21.921875 38.8125 \r\nz\r\nM 18.3125 54.390625 \r\nQ 18.3125 48.734375 21.84375 45.5625 \r\nQ 25.390625 42.390625 31.78125 42.390625 \r\nQ 38.140625 42.390625 41.71875 45.5625 \r\nQ 45.3125 48.734375 45.3125 54.390625 \r\nQ 45.3125 60.0625 41.71875 63.234375 \r\nQ 38.140625 66.40625 31.78125 66.40625 \r\nQ 25.390625 66.40625 21.84375 63.234375 \r\nQ 18.3125 60.0625 18.3125 54.390625 \r\nz\r\n\" id=\"DejaVuSans-56\"/>\r\n      </defs>\r\n      <g transform=\"translate(278.86733 254.356563)scale(0.1 -0.1)\">\r\n       <use xlink:href=\"#DejaVuSans-56\"/>\r\n      </g>\r\n     </g>\r\n    </g>\r\n    <g id=\"xtick_5\">\r\n     <g id=\"line2d_5\">\r\n      <g>\r\n       <use style=\"stroke:#000000;stroke-width:0.8;\" x=\"349.684943\" xlink:href=\"#m54241e52a9\" y=\"239.758125\"/>\r\n      </g>\r\n     </g>\r\n     <g id=\"text_5\">\r\n      <!-- 10 -->\r\n      <defs>\r\n       <path d=\"M 12.40625 8.296875 \r\nL 28.515625 8.296875 \r\nL 28.515625 63.921875 \r\nL 10.984375 60.40625 \r\nL 10.984375 69.390625 \r\nL 28.421875 72.90625 \r\nL 38.28125 72.90625 \r\nL 38.28125 8.296875 \r\nL 54.390625 8.296875 \r\nL 54.390625 0 \r\nL 12.40625 0 \r\nz\r\n\" id=\"DejaVuSans-49\"/>\r\n       <path d=\"M 31.78125 66.40625 \r\nQ 24.171875 66.40625 20.328125 58.90625 \r\nQ 16.5 51.421875 16.5 36.375 \r\nQ 16.5 21.390625 20.328125 13.890625 \r\nQ 24.171875 6.390625 31.78125 6.390625 \r\nQ 39.453125 6.390625 43.28125 13.890625 \r\nQ 47.125 21.390625 47.125 36.375 \r\nQ 47.125 51.421875 43.28125 58.90625 \r\nQ 39.453125 66.40625 31.78125 66.40625 \r\nz\r\nM 31.78125 74.21875 \r\nQ 44.046875 74.21875 50.515625 64.515625 \r\nQ 56.984375 54.828125 56.984375 36.375 \r\nQ 56.984375 17.96875 50.515625 8.265625 \r\nQ 44.046875 -1.421875 31.78125 -1.421875 \r\nQ 19.53125 -1.421875 13.0625 8.265625 \r\nQ 6.59375 17.96875 6.59375 36.375 \r\nQ 6.59375 54.828125 13.0625 64.515625 \r\nQ 19.53125 74.21875 31.78125 74.21875 \r\nz\r\n\" id=\"DejaVuSans-48\"/>\r\n      </defs>\r\n      <g transform=\"translate(343.322443 254.356563)scale(0.1 -0.1)\">\r\n       <use xlink:href=\"#DejaVuSans-49\"/>\r\n       <use x=\"63.623047\" xlink:href=\"#DejaVuSans-48\"/>\r\n      </g>\r\n     </g>\r\n    </g>\r\n   </g>\r\n   <g id=\"matplotlib.axis_2\">\r\n    <g id=\"ytick_1\">\r\n     <g id=\"line2d_6\">\r\n      <defs>\r\n       <path d=\"M 0 0 \r\nL -3.5 0 \r\n\" id=\"m89a3ae5881\" style=\"stroke:#000000;stroke-width:0.8;\"/>\r\n      </defs>\r\n      <g>\r\n       <use style=\"stroke:#000000;stroke-width:0.8;\" x=\"30.103125\" xlink:href=\"#m89a3ae5881\" y=\"232.781441\"/>\r\n      </g>\r\n     </g>\r\n     <g id=\"text_6\">\r\n      <!-- 0.3 -->\r\n      <defs>\r\n       <path d=\"M 10.6875 12.40625 \r\nL 21 12.40625 \r\nL 21 0 \r\nL 10.6875 0 \r\nz\r\n\" id=\"DejaVuSans-46\"/>\r\n       <path d=\"M 40.578125 39.3125 \r\nQ 47.65625 37.796875 51.625 33 \r\nQ 55.609375 28.21875 55.609375 21.1875 \r\nQ 55.609375 10.40625 48.1875 4.484375 \r\nQ 40.765625 -1.421875 27.09375 -1.421875 \r\nQ 22.515625 -1.421875 17.65625 -0.515625 \r\nQ 12.796875 0.390625 7.625 2.203125 \r\nL 7.625 11.71875 \r\nQ 11.71875 9.328125 16.59375 8.109375 \r\nQ 21.484375 6.890625 26.8125 6.890625 \r\nQ 36.078125 6.890625 40.9375 10.546875 \r\nQ 45.796875 14.203125 45.796875 21.1875 \r\nQ 45.796875 27.640625 41.28125 31.265625 \r\nQ 36.765625 34.90625 28.71875 34.90625 \r\nL 20.21875 34.90625 \r\nL 20.21875 43.015625 \r\nL 29.109375 43.015625 \r\nQ 36.375 43.015625 40.234375 45.921875 \r\nQ 44.09375 48.828125 44.09375 54.296875 \r\nQ 44.09375 59.90625 40.109375 62.90625 \r\nQ 36.140625 65.921875 28.71875 65.921875 \r\nQ 24.65625 65.921875 20.015625 65.03125 \r\nQ 15.375 64.15625 9.8125 62.3125 \r\nL 9.8125 71.09375 \r\nQ 15.4375 72.65625 20.34375 73.4375 \r\nQ 25.25 74.21875 29.59375 74.21875 \r\nQ 40.828125 74.21875 47.359375 69.109375 \r\nQ 53.90625 64.015625 53.90625 55.328125 \r\nQ 53.90625 49.265625 50.4375 45.09375 \r\nQ 46.96875 40.921875 40.578125 39.3125 \r\nz\r\n\" id=\"DejaVuSans-51\"/>\r\n      </defs>\r\n      <g transform=\"translate(7.2 236.58066)scale(0.1 -0.1)\">\r\n       <use xlink:href=\"#DejaVuSans-48\"/>\r\n       <use x=\"63.623047\" xlink:href=\"#DejaVuSans-46\"/>\r\n       <use x=\"95.410156\" xlink:href=\"#DejaVuSans-51\"/>\r\n      </g>\r\n     </g>\r\n    </g>\r\n    <g id=\"ytick_2\">\r\n     <g id=\"line2d_7\">\r\n      <g>\r\n       <use style=\"stroke:#000000;stroke-width:0.8;\" x=\"30.103125\" xlink:href=\"#m89a3ae5881\" y=\"203.711923\"/>\r\n      </g>\r\n     </g>\r\n     <g id=\"text_7\">\r\n      <!-- 0.4 -->\r\n      <g transform=\"translate(7.2 207.511142)scale(0.1 -0.1)\">\r\n       <use xlink:href=\"#DejaVuSans-48\"/>\r\n       <use x=\"63.623047\" xlink:href=\"#DejaVuSans-46\"/>\r\n       <use x=\"95.410156\" xlink:href=\"#DejaVuSans-52\"/>\r\n      </g>\r\n     </g>\r\n    </g>\r\n    <g id=\"ytick_3\">\r\n     <g id=\"line2d_8\">\r\n      <g>\r\n       <use style=\"stroke:#000000;stroke-width:0.8;\" x=\"30.103125\" xlink:href=\"#m89a3ae5881\" y=\"174.642404\"/>\r\n      </g>\r\n     </g>\r\n     <g id=\"text_8\">\r\n      <!-- 0.5 -->\r\n      <defs>\r\n       <path d=\"M 10.796875 72.90625 \r\nL 49.515625 72.90625 \r\nL 49.515625 64.59375 \r\nL 19.828125 64.59375 \r\nL 19.828125 46.734375 \r\nQ 21.96875 47.46875 24.109375 47.828125 \r\nQ 26.265625 48.1875 28.421875 48.1875 \r\nQ 40.625 48.1875 47.75 41.5 \r\nQ 54.890625 34.8125 54.890625 23.390625 \r\nQ 54.890625 11.625 47.5625 5.09375 \r\nQ 40.234375 -1.421875 26.90625 -1.421875 \r\nQ 22.3125 -1.421875 17.546875 -0.640625 \r\nQ 12.796875 0.140625 7.71875 1.703125 \r\nL 7.71875 11.625 \r\nQ 12.109375 9.234375 16.796875 8.0625 \r\nQ 21.484375 6.890625 26.703125 6.890625 \r\nQ 35.15625 6.890625 40.078125 11.328125 \r\nQ 45.015625 15.765625 45.015625 23.390625 \r\nQ 45.015625 31 40.078125 35.4375 \r\nQ 35.15625 39.890625 26.703125 39.890625 \r\nQ 22.75 39.890625 18.8125 39.015625 \r\nQ 14.890625 38.140625 10.796875 36.28125 \r\nz\r\n\" id=\"DejaVuSans-53\"/>\r\n      </defs>\r\n      <g transform=\"translate(7.2 178.441623)scale(0.1 -0.1)\">\r\n       <use xlink:href=\"#DejaVuSans-48\"/>\r\n       <use x=\"63.623047\" xlink:href=\"#DejaVuSans-46\"/>\r\n       <use x=\"95.410156\" xlink:href=\"#DejaVuSans-53\"/>\r\n      </g>\r\n     </g>\r\n    </g>\r\n    <g id=\"ytick_4\">\r\n     <g id=\"line2d_9\">\r\n      <g>\r\n       <use style=\"stroke:#000000;stroke-width:0.8;\" x=\"30.103125\" xlink:href=\"#m89a3ae5881\" y=\"145.572886\"/>\r\n      </g>\r\n     </g>\r\n     <g id=\"text_9\">\r\n      <!-- 0.6 -->\r\n      <g transform=\"translate(7.2 149.372105)scale(0.1 -0.1)\">\r\n       <use xlink:href=\"#DejaVuSans-48\"/>\r\n       <use x=\"63.623047\" xlink:href=\"#DejaVuSans-46\"/>\r\n       <use x=\"95.410156\" xlink:href=\"#DejaVuSans-54\"/>\r\n      </g>\r\n     </g>\r\n    </g>\r\n    <g id=\"ytick_5\">\r\n     <g id=\"line2d_10\">\r\n      <g>\r\n       <use style=\"stroke:#000000;stroke-width:0.8;\" x=\"30.103125\" xlink:href=\"#m89a3ae5881\" y=\"116.503368\"/>\r\n      </g>\r\n     </g>\r\n     <g id=\"text_10\">\r\n      <!-- 0.7 -->\r\n      <defs>\r\n       <path d=\"M 8.203125 72.90625 \r\nL 55.078125 72.90625 \r\nL 55.078125 68.703125 \r\nL 28.609375 0 \r\nL 18.3125 0 \r\nL 43.21875 64.59375 \r\nL 8.203125 64.59375 \r\nz\r\n\" id=\"DejaVuSans-55\"/>\r\n      </defs>\r\n      <g transform=\"translate(7.2 120.302586)scale(0.1 -0.1)\">\r\n       <use xlink:href=\"#DejaVuSans-48\"/>\r\n       <use x=\"63.623047\" xlink:href=\"#DejaVuSans-46\"/>\r\n       <use x=\"95.410156\" xlink:href=\"#DejaVuSans-55\"/>\r\n      </g>\r\n     </g>\r\n    </g>\r\n    <g id=\"ytick_6\">\r\n     <g id=\"line2d_11\">\r\n      <g>\r\n       <use style=\"stroke:#000000;stroke-width:0.8;\" x=\"30.103125\" xlink:href=\"#m89a3ae5881\" y=\"87.433849\"/>\r\n      </g>\r\n     </g>\r\n     <g id=\"text_11\">\r\n      <!-- 0.8 -->\r\n      <g transform=\"translate(7.2 91.233068)scale(0.1 -0.1)\">\r\n       <use xlink:href=\"#DejaVuSans-48\"/>\r\n       <use x=\"63.623047\" xlink:href=\"#DejaVuSans-46\"/>\r\n       <use x=\"95.410156\" xlink:href=\"#DejaVuSans-56\"/>\r\n      </g>\r\n     </g>\r\n    </g>\r\n    <g id=\"ytick_7\">\r\n     <g id=\"line2d_12\">\r\n      <g>\r\n       <use style=\"stroke:#000000;stroke-width:0.8;\" x=\"30.103125\" xlink:href=\"#m89a3ae5881\" y=\"58.364331\"/>\r\n      </g>\r\n     </g>\r\n     <g id=\"text_12\">\r\n      <!-- 0.9 -->\r\n      <defs>\r\n       <path d=\"M 10.984375 1.515625 \r\nL 10.984375 10.5 \r\nQ 14.703125 8.734375 18.5 7.8125 \r\nQ 22.3125 6.890625 25.984375 6.890625 \r\nQ 35.75 6.890625 40.890625 13.453125 \r\nQ 46.046875 20.015625 46.78125 33.40625 \r\nQ 43.953125 29.203125 39.59375 26.953125 \r\nQ 35.25 24.703125 29.984375 24.703125 \r\nQ 19.046875 24.703125 12.671875 31.3125 \r\nQ 6.296875 37.9375 6.296875 49.421875 \r\nQ 6.296875 60.640625 12.9375 67.421875 \r\nQ 19.578125 74.21875 30.609375 74.21875 \r\nQ 43.265625 74.21875 49.921875 64.515625 \r\nQ 56.59375 54.828125 56.59375 36.375 \r\nQ 56.59375 19.140625 48.40625 8.859375 \r\nQ 40.234375 -1.421875 26.421875 -1.421875 \r\nQ 22.703125 -1.421875 18.890625 -0.6875 \r\nQ 15.09375 0.046875 10.984375 1.515625 \r\nz\r\nM 30.609375 32.421875 \r\nQ 37.25 32.421875 41.125 36.953125 \r\nQ 45.015625 41.5 45.015625 49.421875 \r\nQ 45.015625 57.28125 41.125 61.84375 \r\nQ 37.25 66.40625 30.609375 66.40625 \r\nQ 23.96875 66.40625 20.09375 61.84375 \r\nQ 16.21875 57.28125 16.21875 49.421875 \r\nQ 16.21875 41.5 20.09375 36.953125 \r\nQ 23.96875 32.421875 30.609375 32.421875 \r\nz\r\n\" id=\"DejaVuSans-57\"/>\r\n      </defs>\r\n      <g transform=\"translate(7.2 62.163549)scale(0.1 -0.1)\">\r\n       <use xlink:href=\"#DejaVuSans-48\"/>\r\n       <use x=\"63.623047\" xlink:href=\"#DejaVuSans-46\"/>\r\n       <use x=\"95.410156\" xlink:href=\"#DejaVuSans-57\"/>\r\n      </g>\r\n     </g>\r\n    </g>\r\n    <g id=\"ytick_8\">\r\n     <g id=\"line2d_13\">\r\n      <g>\r\n       <use style=\"stroke:#000000;stroke-width:0.8;\" x=\"30.103125\" xlink:href=\"#m89a3ae5881\" y=\"29.294812\"/>\r\n      </g>\r\n     </g>\r\n     <g id=\"text_13\">\r\n      <!-- 1.0 -->\r\n      <g transform=\"translate(7.2 33.094031)scale(0.1 -0.1)\">\r\n       <use xlink:href=\"#DejaVuSans-49\"/>\r\n       <use x=\"63.623047\" xlink:href=\"#DejaVuSans-46\"/>\r\n       <use x=\"95.410156\" xlink:href=\"#DejaVuSans-48\"/>\r\n      </g>\r\n     </g>\r\n    </g>\r\n   </g>\r\n   <g id=\"line2d_14\">\r\n    <path clip-path=\"url(#p1e765717e8)\" d=\"M 45.321307 189.177167 \r\nL 79.139489 156.910001 \r\nL 112.95767 134.526466 \r\nL 146.775852 117.956846 \r\nL 180.594034 79.585073 \r\nL 214.412216 51.096948 \r\nL 248.230398 47.317907 \r\nL 282.04858 48.771381 \r\nL 315.866761 43.829575 \r\nL 349.684943 42.957483 \r\n\" style=\"fill:none;stroke:#0000ff;stroke-linecap:square;stroke-width:1.5;\"/>\r\n   </g>\r\n   <g id=\"line2d_15\">\r\n    <path clip-path=\"url(#p1e765717e8)\" d=\"M 45.321307 203.711921 \r\nL 79.139489 229.874489 \r\nL 112.95767 229.874489 \r\nL 146.775852 174.642404 \r\nL 180.594034 168.828506 \r\nL 214.412216 55.457371 \r\nL 248.230398 61.271287 \r\nL 282.04858 46.736524 \r\nL 315.866761 32.201761 \r\nL 349.684943 61.271287 \r\n\" style=\"fill:none;stroke:#000000;stroke-linecap:square;stroke-width:1.5;\"/>\r\n   </g>\r\n   <g id=\"patch_3\">\r\n    <path d=\"M 30.103125 239.758125 \r\nL 30.103125 22.318125 \r\n\" style=\"fill:none;stroke:#000000;stroke-linecap:square;stroke-linejoin:miter;stroke-width:0.8;\"/>\r\n   </g>\r\n   <g id=\"patch_4\">\r\n    <path d=\"M 364.903125 239.758125 \r\nL 364.903125 22.318125 \r\n\" style=\"fill:none;stroke:#000000;stroke-linecap:square;stroke-linejoin:miter;stroke-width:0.8;\"/>\r\n   </g>\r\n   <g id=\"patch_5\">\r\n    <path d=\"M 30.103125 239.758125 \r\nL 364.903125 239.758125 \r\n\" style=\"fill:none;stroke:#000000;stroke-linecap:square;stroke-linejoin:miter;stroke-width:0.8;\"/>\r\n   </g>\r\n   <g id=\"patch_6\">\r\n    <path d=\"M 30.103125 22.318125 \r\nL 364.903125 22.318125 \r\n\" style=\"fill:none;stroke:#000000;stroke-linecap:square;stroke-linejoin:miter;stroke-width:0.8;\"/>\r\n   </g>\r\n   <g id=\"text_14\">\r\n    <!-- Training and Validation accurarcy -->\r\n    <defs>\r\n     <path d=\"M -0.296875 72.90625 \r\nL 61.375 72.90625 \r\nL 61.375 64.59375 \r\nL 35.5 64.59375 \r\nL 35.5 0 \r\nL 25.59375 0 \r\nL 25.59375 64.59375 \r\nL -0.296875 64.59375 \r\nz\r\n\" id=\"DejaVuSans-84\"/>\r\n     <path d=\"M 41.109375 46.296875 \r\nQ 39.59375 47.171875 37.8125 47.578125 \r\nQ 36.03125 48 33.890625 48 \r\nQ 26.265625 48 22.1875 43.046875 \r\nQ 18.109375 38.09375 18.109375 28.8125 \r\nL 18.109375 0 \r\nL 9.078125 0 \r\nL 9.078125 54.6875 \r\nL 18.109375 54.6875 \r\nL 18.109375 46.1875 \r\nQ 20.953125 51.171875 25.484375 53.578125 \r\nQ 30.03125 56 36.53125 56 \r\nQ 37.453125 56 38.578125 55.875 \r\nQ 39.703125 55.765625 41.0625 55.515625 \r\nz\r\n\" id=\"DejaVuSans-114\"/>\r\n     <path d=\"M 34.28125 27.484375 \r\nQ 23.390625 27.484375 19.1875 25 \r\nQ 14.984375 22.515625 14.984375 16.5 \r\nQ 14.984375 11.71875 18.140625 8.90625 \r\nQ 21.296875 6.109375 26.703125 6.109375 \r\nQ 34.1875 6.109375 38.703125 11.40625 \r\nQ 43.21875 16.703125 43.21875 25.484375 \r\nL 43.21875 27.484375 \r\nz\r\nM 52.203125 31.203125 \r\nL 52.203125 0 \r\nL 43.21875 0 \r\nL 43.21875 8.296875 \r\nQ 40.140625 3.328125 35.546875 0.953125 \r\nQ 30.953125 -1.421875 24.3125 -1.421875 \r\nQ 15.921875 -1.421875 10.953125 3.296875 \r\nQ 6 8.015625 6 15.921875 \r\nQ 6 25.140625 12.171875 29.828125 \r\nQ 18.359375 34.515625 30.609375 34.515625 \r\nL 43.21875 34.515625 \r\nL 43.21875 35.40625 \r\nQ 43.21875 41.609375 39.140625 45 \r\nQ 35.0625 48.390625 27.6875 48.390625 \r\nQ 23 48.390625 18.546875 47.265625 \r\nQ 14.109375 46.140625 10.015625 43.890625 \r\nL 10.015625 52.203125 \r\nQ 14.9375 54.109375 19.578125 55.046875 \r\nQ 24.21875 56 28.609375 56 \r\nQ 40.484375 56 46.34375 49.84375 \r\nQ 52.203125 43.703125 52.203125 31.203125 \r\nz\r\n\" id=\"DejaVuSans-97\"/>\r\n     <path d=\"M 9.421875 54.6875 \r\nL 18.40625 54.6875 \r\nL 18.40625 0 \r\nL 9.421875 0 \r\nz\r\nM 9.421875 75.984375 \r\nL 18.40625 75.984375 \r\nL 18.40625 64.59375 \r\nL 9.421875 64.59375 \r\nz\r\n\" id=\"DejaVuSans-105\"/>\r\n     <path d=\"M 54.890625 33.015625 \r\nL 54.890625 0 \r\nL 45.90625 0 \r\nL 45.90625 32.71875 \r\nQ 45.90625 40.484375 42.875 44.328125 \r\nQ 39.84375 48.1875 33.796875 48.1875 \r\nQ 26.515625 48.1875 22.3125 43.546875 \r\nQ 18.109375 38.921875 18.109375 30.90625 \r\nL 18.109375 0 \r\nL 9.078125 0 \r\nL 9.078125 54.6875 \r\nL 18.109375 54.6875 \r\nL 18.109375 46.1875 \r\nQ 21.34375 51.125 25.703125 53.5625 \r\nQ 30.078125 56 35.796875 56 \r\nQ 45.21875 56 50.046875 50.171875 \r\nQ 54.890625 44.34375 54.890625 33.015625 \r\nz\r\n\" id=\"DejaVuSans-110\"/>\r\n     <path d=\"M 45.40625 27.984375 \r\nQ 45.40625 37.75 41.375 43.109375 \r\nQ 37.359375 48.484375 30.078125 48.484375 \r\nQ 22.859375 48.484375 18.828125 43.109375 \r\nQ 14.796875 37.75 14.796875 27.984375 \r\nQ 14.796875 18.265625 18.828125 12.890625 \r\nQ 22.859375 7.515625 30.078125 7.515625 \r\nQ 37.359375 7.515625 41.375 12.890625 \r\nQ 45.40625 18.265625 45.40625 27.984375 \r\nz\r\nM 54.390625 6.78125 \r\nQ 54.390625 -7.171875 48.1875 -13.984375 \r\nQ 42 -20.796875 29.203125 -20.796875 \r\nQ 24.46875 -20.796875 20.265625 -20.09375 \r\nQ 16.0625 -19.390625 12.109375 -17.921875 \r\nL 12.109375 -9.1875 \r\nQ 16.0625 -11.328125 19.921875 -12.34375 \r\nQ 23.78125 -13.375 27.78125 -13.375 \r\nQ 36.625 -13.375 41.015625 -8.765625 \r\nQ 45.40625 -4.15625 45.40625 5.171875 \r\nL 45.40625 9.625 \r\nQ 42.625 4.78125 38.28125 2.390625 \r\nQ 33.9375 0 27.875 0 \r\nQ 17.828125 0 11.671875 7.65625 \r\nQ 5.515625 15.328125 5.515625 27.984375 \r\nQ 5.515625 40.671875 11.671875 48.328125 \r\nQ 17.828125 56 27.875 56 \r\nQ 33.9375 56 38.28125 53.609375 \r\nQ 42.625 51.21875 45.40625 46.390625 \r\nL 45.40625 54.6875 \r\nL 54.390625 54.6875 \r\nz\r\n\" id=\"DejaVuSans-103\"/>\r\n     <path id=\"DejaVuSans-32\"/>\r\n     <path d=\"M 45.40625 46.390625 \r\nL 45.40625 75.984375 \r\nL 54.390625 75.984375 \r\nL 54.390625 0 \r\nL 45.40625 0 \r\nL 45.40625 8.203125 \r\nQ 42.578125 3.328125 38.25 0.953125 \r\nQ 33.9375 -1.421875 27.875 -1.421875 \r\nQ 17.96875 -1.421875 11.734375 6.484375 \r\nQ 5.515625 14.40625 5.515625 27.296875 \r\nQ 5.515625 40.1875 11.734375 48.09375 \r\nQ 17.96875 56 27.875 56 \r\nQ 33.9375 56 38.25 53.625 \r\nQ 42.578125 51.265625 45.40625 46.390625 \r\nz\r\nM 14.796875 27.296875 \r\nQ 14.796875 17.390625 18.875 11.75 \r\nQ 22.953125 6.109375 30.078125 6.109375 \r\nQ 37.203125 6.109375 41.296875 11.75 \r\nQ 45.40625 17.390625 45.40625 27.296875 \r\nQ 45.40625 37.203125 41.296875 42.84375 \r\nQ 37.203125 48.484375 30.078125 48.484375 \r\nQ 22.953125 48.484375 18.875 42.84375 \r\nQ 14.796875 37.203125 14.796875 27.296875 \r\nz\r\n\" id=\"DejaVuSans-100\"/>\r\n     <path d=\"M 28.609375 0 \r\nL 0.78125 72.90625 \r\nL 11.078125 72.90625 \r\nL 34.1875 11.53125 \r\nL 57.328125 72.90625 \r\nL 67.578125 72.90625 \r\nL 39.796875 0 \r\nz\r\n\" id=\"DejaVuSans-86\"/>\r\n     <path d=\"M 9.421875 75.984375 \r\nL 18.40625 75.984375 \r\nL 18.40625 0 \r\nL 9.421875 0 \r\nz\r\n\" id=\"DejaVuSans-108\"/>\r\n     <path d=\"M 18.3125 70.21875 \r\nL 18.3125 54.6875 \r\nL 36.8125 54.6875 \r\nL 36.8125 47.703125 \r\nL 18.3125 47.703125 \r\nL 18.3125 18.015625 \r\nQ 18.3125 11.328125 20.140625 9.421875 \r\nQ 21.96875 7.515625 27.59375 7.515625 \r\nL 36.8125 7.515625 \r\nL 36.8125 0 \r\nL 27.59375 0 \r\nQ 17.1875 0 13.234375 3.875 \r\nQ 9.28125 7.765625 9.28125 18.015625 \r\nL 9.28125 47.703125 \r\nL 2.6875 47.703125 \r\nL 2.6875 54.6875 \r\nL 9.28125 54.6875 \r\nL 9.28125 70.21875 \r\nz\r\n\" id=\"DejaVuSans-116\"/>\r\n     <path d=\"M 30.609375 48.390625 \r\nQ 23.390625 48.390625 19.1875 42.75 \r\nQ 14.984375 37.109375 14.984375 27.296875 \r\nQ 14.984375 17.484375 19.15625 11.84375 \r\nQ 23.34375 6.203125 30.609375 6.203125 \r\nQ 37.796875 6.203125 41.984375 11.859375 \r\nQ 46.1875 17.53125 46.1875 27.296875 \r\nQ 46.1875 37.015625 41.984375 42.703125 \r\nQ 37.796875 48.390625 30.609375 48.390625 \r\nz\r\nM 30.609375 56 \r\nQ 42.328125 56 49.015625 48.375 \r\nQ 55.71875 40.765625 55.71875 27.296875 \r\nQ 55.71875 13.875 49.015625 6.21875 \r\nQ 42.328125 -1.421875 30.609375 -1.421875 \r\nQ 18.84375 -1.421875 12.171875 6.21875 \r\nQ 5.515625 13.875 5.515625 27.296875 \r\nQ 5.515625 40.765625 12.171875 48.375 \r\nQ 18.84375 56 30.609375 56 \r\nz\r\n\" id=\"DejaVuSans-111\"/>\r\n     <path d=\"M 48.78125 52.59375 \r\nL 48.78125 44.1875 \r\nQ 44.96875 46.296875 41.140625 47.34375 \r\nQ 37.3125 48.390625 33.40625 48.390625 \r\nQ 24.65625 48.390625 19.8125 42.84375 \r\nQ 14.984375 37.3125 14.984375 27.296875 \r\nQ 14.984375 17.28125 19.8125 11.734375 \r\nQ 24.65625 6.203125 33.40625 6.203125 \r\nQ 37.3125 6.203125 41.140625 7.25 \r\nQ 44.96875 8.296875 48.78125 10.40625 \r\nL 48.78125 2.09375 \r\nQ 45.015625 0.34375 40.984375 -0.53125 \r\nQ 36.96875 -1.421875 32.421875 -1.421875 \r\nQ 20.0625 -1.421875 12.78125 6.34375 \r\nQ 5.515625 14.109375 5.515625 27.296875 \r\nQ 5.515625 40.671875 12.859375 48.328125 \r\nQ 20.21875 56 33.015625 56 \r\nQ 37.15625 56 41.109375 55.140625 \r\nQ 45.0625 54.296875 48.78125 52.59375 \r\nz\r\n\" id=\"DejaVuSans-99\"/>\r\n     <path d=\"M 8.5 21.578125 \r\nL 8.5 54.6875 \r\nL 17.484375 54.6875 \r\nL 17.484375 21.921875 \r\nQ 17.484375 14.15625 20.5 10.265625 \r\nQ 23.53125 6.390625 29.59375 6.390625 \r\nQ 36.859375 6.390625 41.078125 11.03125 \r\nQ 45.3125 15.671875 45.3125 23.6875 \r\nL 45.3125 54.6875 \r\nL 54.296875 54.6875 \r\nL 54.296875 0 \r\nL 45.3125 0 \r\nL 45.3125 8.40625 \r\nQ 42.046875 3.421875 37.71875 1 \r\nQ 33.40625 -1.421875 27.6875 -1.421875 \r\nQ 18.265625 -1.421875 13.375 4.4375 \r\nQ 8.5 10.296875 8.5 21.578125 \r\nz\r\nM 31.109375 56 \r\nz\r\n\" id=\"DejaVuSans-117\"/>\r\n     <path d=\"M 32.171875 -5.078125 \r\nQ 28.375 -14.84375 24.75 -17.8125 \r\nQ 21.140625 -20.796875 15.09375 -20.796875 \r\nL 7.90625 -20.796875 \r\nL 7.90625 -13.28125 \r\nL 13.1875 -13.28125 \r\nQ 16.890625 -13.28125 18.9375 -11.515625 \r\nQ 21 -9.765625 23.484375 -3.21875 \r\nL 25.09375 0.875 \r\nL 2.984375 54.6875 \r\nL 12.5 54.6875 \r\nL 29.59375 11.921875 \r\nL 46.6875 54.6875 \r\nL 56.203125 54.6875 \r\nz\r\n\" id=\"DejaVuSans-121\"/>\r\n    </defs>\r\n    <g transform=\"translate(96.328125 16.318125)scale(0.12 -0.12)\">\r\n     <use xlink:href=\"#DejaVuSans-84\"/>\r\n     <use x=\"60.865234\" xlink:href=\"#DejaVuSans-114\"/>\r\n     <use x=\"101.978516\" xlink:href=\"#DejaVuSans-97\"/>\r\n     <use x=\"163.257812\" xlink:href=\"#DejaVuSans-105\"/>\r\n     <use x=\"191.041016\" xlink:href=\"#DejaVuSans-110\"/>\r\n     <use x=\"254.419922\" xlink:href=\"#DejaVuSans-105\"/>\r\n     <use x=\"282.203125\" xlink:href=\"#DejaVuSans-110\"/>\r\n     <use x=\"345.582031\" xlink:href=\"#DejaVuSans-103\"/>\r\n     <use x=\"409.058594\" xlink:href=\"#DejaVuSans-32\"/>\r\n     <use x=\"440.845703\" xlink:href=\"#DejaVuSans-97\"/>\r\n     <use x=\"502.125\" xlink:href=\"#DejaVuSans-110\"/>\r\n     <use x=\"565.503906\" xlink:href=\"#DejaVuSans-100\"/>\r\n     <use x=\"628.980469\" xlink:href=\"#DejaVuSans-32\"/>\r\n     <use x=\"660.767578\" xlink:href=\"#DejaVuSans-86\"/>\r\n     <use x=\"729.066406\" xlink:href=\"#DejaVuSans-97\"/>\r\n     <use x=\"790.345703\" xlink:href=\"#DejaVuSans-108\"/>\r\n     <use x=\"818.128906\" xlink:href=\"#DejaVuSans-105\"/>\r\n     <use x=\"845.912109\" xlink:href=\"#DejaVuSans-100\"/>\r\n     <use x=\"909.388672\" xlink:href=\"#DejaVuSans-97\"/>\r\n     <use x=\"970.667969\" xlink:href=\"#DejaVuSans-116\"/>\r\n     <use x=\"1009.876953\" xlink:href=\"#DejaVuSans-105\"/>\r\n     <use x=\"1037.660156\" xlink:href=\"#DejaVuSans-111\"/>\r\n     <use x=\"1098.841797\" xlink:href=\"#DejaVuSans-110\"/>\r\n     <use x=\"1162.220703\" xlink:href=\"#DejaVuSans-32\"/>\r\n     <use x=\"1194.007812\" xlink:href=\"#DejaVuSans-97\"/>\r\n     <use x=\"1255.287109\" xlink:href=\"#DejaVuSans-99\"/>\r\n     <use x=\"1310.267578\" xlink:href=\"#DejaVuSans-99\"/>\r\n     <use x=\"1365.248047\" xlink:href=\"#DejaVuSans-117\"/>\r\n     <use x=\"1428.626953\" xlink:href=\"#DejaVuSans-114\"/>\r\n     <use x=\"1469.740234\" xlink:href=\"#DejaVuSans-97\"/>\r\n     <use x=\"1531.019531\" xlink:href=\"#DejaVuSans-114\"/>\r\n     <use x=\"1572.101562\" xlink:href=\"#DejaVuSans-99\"/>\r\n     <use x=\"1627.082031\" xlink:href=\"#DejaVuSans-121\"/>\r\n    </g>\r\n   </g>\r\n   <g id=\"legend_1\">\r\n    <g id=\"patch_7\">\r\n     <path d=\"M 37.103125 59.674375 \r\nL 171.653125 59.674375 \r\nQ 173.653125 59.674375 173.653125 57.674375 \r\nL 173.653125 29.318125 \r\nQ 173.653125 27.318125 171.653125 27.318125 \r\nL 37.103125 27.318125 \r\nQ 35.103125 27.318125 35.103125 29.318125 \r\nL 35.103125 57.674375 \r\nQ 35.103125 59.674375 37.103125 59.674375 \r\nz\r\n\" style=\"fill:#ffffff;opacity:0.8;stroke:#cccccc;stroke-linejoin:miter;\"/>\r\n    </g>\r\n    <g id=\"line2d_16\">\r\n     <path d=\"M 39.103125 35.416562 \r\nL 59.103125 35.416562 \r\n\" style=\"fill:none;stroke:#0000ff;stroke-linecap:square;stroke-width:1.5;\"/>\r\n    </g>\r\n    <g id=\"line2d_17\"/>\r\n    <g id=\"text_15\">\r\n     <!-- Training accurarcy -->\r\n     <g transform=\"translate(67.103125 38.916562)scale(0.1 -0.1)\">\r\n      <use xlink:href=\"#DejaVuSans-84\"/>\r\n      <use x=\"60.865234\" xlink:href=\"#DejaVuSans-114\"/>\r\n      <use x=\"101.978516\" xlink:href=\"#DejaVuSans-97\"/>\r\n      <use x=\"163.257812\" xlink:href=\"#DejaVuSans-105\"/>\r\n      <use x=\"191.041016\" xlink:href=\"#DejaVuSans-110\"/>\r\n      <use x=\"254.419922\" xlink:href=\"#DejaVuSans-105\"/>\r\n      <use x=\"282.203125\" xlink:href=\"#DejaVuSans-110\"/>\r\n      <use x=\"345.582031\" xlink:href=\"#DejaVuSans-103\"/>\r\n      <use x=\"409.058594\" xlink:href=\"#DejaVuSans-32\"/>\r\n      <use x=\"440.845703\" xlink:href=\"#DejaVuSans-97\"/>\r\n      <use x=\"502.125\" xlink:href=\"#DejaVuSans-99\"/>\r\n      <use x=\"557.105469\" xlink:href=\"#DejaVuSans-99\"/>\r\n      <use x=\"612.085938\" xlink:href=\"#DejaVuSans-117\"/>\r\n      <use x=\"675.464844\" xlink:href=\"#DejaVuSans-114\"/>\r\n      <use x=\"716.578125\" xlink:href=\"#DejaVuSans-97\"/>\r\n      <use x=\"777.857422\" xlink:href=\"#DejaVuSans-114\"/>\r\n      <use x=\"818.939453\" xlink:href=\"#DejaVuSans-99\"/>\r\n      <use x=\"873.919922\" xlink:href=\"#DejaVuSans-121\"/>\r\n     </g>\r\n    </g>\r\n    <g id=\"line2d_18\">\r\n     <path d=\"M 39.103125 50.094687 \r\nL 59.103125 50.094687 \r\n\" style=\"fill:none;stroke:#000000;stroke-linecap:square;stroke-width:1.5;\"/>\r\n    </g>\r\n    <g id=\"line2d_19\"/>\r\n    <g id=\"text_16\">\r\n     <!-- Validation accurarcy -->\r\n     <g transform=\"translate(67.103125 53.594687)scale(0.1 -0.1)\">\r\n      <use xlink:href=\"#DejaVuSans-86\"/>\r\n      <use x=\"68.298828\" xlink:href=\"#DejaVuSans-97\"/>\r\n      <use x=\"129.578125\" xlink:href=\"#DejaVuSans-108\"/>\r\n      <use x=\"157.361328\" xlink:href=\"#DejaVuSans-105\"/>\r\n      <use x=\"185.144531\" xlink:href=\"#DejaVuSans-100\"/>\r\n      <use x=\"248.621094\" xlink:href=\"#DejaVuSans-97\"/>\r\n      <use x=\"309.900391\" xlink:href=\"#DejaVuSans-116\"/>\r\n      <use x=\"349.109375\" xlink:href=\"#DejaVuSans-105\"/>\r\n      <use x=\"376.892578\" xlink:href=\"#DejaVuSans-111\"/>\r\n      <use x=\"438.074219\" xlink:href=\"#DejaVuSans-110\"/>\r\n      <use x=\"501.453125\" xlink:href=\"#DejaVuSans-32\"/>\r\n      <use x=\"533.240234\" xlink:href=\"#DejaVuSans-97\"/>\r\n      <use x=\"594.519531\" xlink:href=\"#DejaVuSans-99\"/>\r\n      <use x=\"649.5\" xlink:href=\"#DejaVuSans-99\"/>\r\n      <use x=\"704.480469\" xlink:href=\"#DejaVuSans-117\"/>\r\n      <use x=\"767.859375\" xlink:href=\"#DejaVuSans-114\"/>\r\n      <use x=\"808.972656\" xlink:href=\"#DejaVuSans-97\"/>\r\n      <use x=\"870.251953\" xlink:href=\"#DejaVuSans-114\"/>\r\n      <use x=\"911.333984\" xlink:href=\"#DejaVuSans-99\"/>\r\n      <use x=\"966.314453\" xlink:href=\"#DejaVuSans-121\"/>\r\n     </g>\r\n    </g>\r\n   </g>\r\n  </g>\r\n </g>\r\n <defs>\r\n  <clipPath id=\"p1e765717e8\">\r\n   <rect height=\"217.44\" width=\"334.8\" x=\"30.103125\" y=\"22.318125\"/>\r\n  </clipPath>\r\n </defs>\r\n</svg>\r\n",
      "image/png": "[encoded data removed]"
     },
     "metadata": {
      "needs_background": "light"
     }
    }
   ],
   "source": [
    "acc = model_history.history['accuracy']\n",
    "val_acc = model_history.history['val_accuracy']\n",
    "epochs = range(1, len(acc) + 1)\n",
    "\n",
    "#Train and validation accuracy\n",
    "plt.plot(epochs, acc, 'blue', label='Training accurarcy')\n",
    "plt.plot(epochs, val_acc, 'black', label='Validation accurarcy')\n",
    "plt.title('Training and Validation accurarcy')\n",
    "plt.legend()\n",
    "plt.show()"
   ]
  },
  {
   "cell_type": "markdown",
   "metadata": {},
   "source": [
    "### Mengevaluasi Model"
   ]
  },
  {
   "cell_type": "code",
   "execution_count": 16,
   "metadata": {},
   "outputs": [
    {
     "output_type": "stream",
     "name": "stdout",
     "text": "20/20 [==============================] - 3s 154ms/step - loss: 0.2200 - accuracy: 0.9278\n"
    },
    {
     "output_type": "execute_result",
     "data": {
      "text/plain": "[0.21996298943413423, 0.92783505]"
     },
     "metadata": {},
     "execution_count": 16
    }
   ],
   "source": [
    "model.evaluate(test_data)"
   ]
  },
  {
   "cell_type": "markdown",
   "metadata": {},
   "source": [
    "### Kesimpulan\n",
    "\n",
    "##### Akurasi Data Train    = 95.50%\n",
    "##### Akurasi Data Validasi = 97.50%\n",
    "##### Akurasi Data Test     = 96.39%\n",
    "##### Durasi Train model    = xx menit xx detik\n"
   ]
  },
  {
   "cell_type": "markdown",
   "metadata": {},
   "source": [
    "### Memprediksi Gambar"
   ]
  },
  {
   "cell_type": "code",
   "execution_count": 15,
   "metadata": {},
   "outputs": [],
   "source": [
    "# import numpy as np\n",
    "# from google.colab import files\n",
    "# from keras.preprocessing import image\n",
    "# import matplotlib.pyplot as plt\n",
    "# import matplotlib.image as mpimg\n",
    "# %matplotlib inline\n",
    "\n",
    "# uploaded = files.upload()\n",
    "\n",
    "# for fn in uploaded.keys():\n",
    "\n",
    "#     # predicting images\n",
    "#     path = fnf\n",
    "#     img = image.load_img(path, target_size=image_size)\n",
    "#     imgplot = plt.imshow(img)\n",
    "#     x = image.img_to_array(img)\n",
    "#     x = np.expand_dims(x, axis=0)\n",
    "    \n",
    "#     images = np.vstack([x])\n",
    "#     classes = model.predict(images, batch_size=batch_size)\n",
    "    \n",
    "#     print(fn)\n",
    "#     if classes==0:\n",
    "#         print('paper')\n",
    "#     elif classes==1:\n",
    "#         print('rock')\n",
    "#     else:\n",
    "#         print('scissors')"
   ]
  },
  {
   "cell_type": "code",
   "execution_count": 24,
   "metadata": {},
   "outputs": [
    {
     "output_type": "execute_result",
     "data": {
      "text/plain": "(array([[[[0.531774  , 0.4299645 , 0.27983946],\n          [0.5239637 , 0.4268404 , 0.28296357],\n          [0.5161534 , 0.42371628, 0.2860877 ],\n          ...,\n          [0.1506672 , 0.44870645, 0.08007896],\n          [0.14823411, 0.45098042, 0.08392197],\n          [0.14117648, 0.45098042, 0.08329359]],\n \n         [[0.56517655, 0.45286283, 0.28203925],\n          [0.5589283 , 0.44739562, 0.27969617],\n          [0.55268013, 0.44192842, 0.27735308],\n          ...,\n          [0.1514521 , 0.44949132, 0.08086386],\n          [0.14587946, 0.45098042, 0.08470685],\n          [0.14117648, 0.45098042, 0.08172382]],\n \n         [[0.5959143 , 0.46274513, 0.3008573 ],\n          [0.58966607, 0.46274513, 0.29617113],\n          [0.58341783, 0.46274513, 0.29148495],\n          ...,\n          [0.15223698, 0.4502762 , 0.08164874],\n          [0.1435248 , 0.45098042, 0.08549175],\n          [0.14117648, 0.45098042, 0.08015404]],\n \n         ...,\n \n         [[0.15075076, 0.49498323, 0.08321851],\n          [0.14604218, 0.4881628 , 0.07937551],\n          [0.14509805, 0.49207228, 0.08133025],\n          ...,\n          [0.12714   , 0.4565518 , 0.06831647],\n          [0.12635899, 0.45577076, 0.06753545],\n          [0.12557796, 0.45498973, 0.06675442]],\n \n         [[0.14918098, 0.49419838, 0.08243363],\n          [0.1452573 , 0.48659304, 0.07859062],\n          [0.14509805, 0.49364206, 0.08211514],\n          ...,\n          [0.12784131, 0.4572531 , 0.06901778],\n          [0.12862234, 0.45803413, 0.0697988 ],\n          [0.12940337, 0.45881516, 0.07057984]],\n \n         [[0.14831541, 0.49270925, 0.08164874],\n          [0.14509805, 0.48752582, 0.07905702],\n          [0.14455096, 0.4935706 , 0.08180586],\n          ...,\n          [0.1239991 , 0.45788422, 0.06815778],\n          [0.12478013, 0.45632216, 0.06737675],\n          [0.12556116, 0.45497292, 0.06673761]]],\n \n \n        [[[0.78124595, 0.6949714 , 0.56322974],\n          [0.77825147, 0.69197696, 0.55923724],\n          [0.77647066, 0.689387  , 0.5556492 ],\n          ...,\n          [0.15220797, 0.5616453 , 0.23296674],\n          [0.15781258, 0.56125927, 0.23796728],\n          [0.16470589, 0.5647059 , 0.24313727]],\n \n         [[0.78823537, 0.7019608 , 0.5754688 ],\n          [0.78823537, 0.7019608 , 0.57347256],\n          [0.7866261 , 0.7003516 , 0.57040346],\n          ...,\n          [0.15019113, 0.55862004, 0.23195831],\n          [0.16184624, 0.56327605, 0.24099253],\n          [0.16470589, 0.5647059 , 0.24313727]],\n \n         [[0.78823537, 0.7019608 , 0.57773614],\n          [0.78823537, 0.7019608 , 0.5797325 ],\n          [0.78823537, 0.7019608 , 0.57905567],\n          ...,\n          [0.15071023, 0.5577081 , 0.23264052],\n          [0.16470589, 0.5647059 , 0.24313727],\n          [0.16421285, 0.5647059 , 0.24264424]],\n \n         ...,\n \n         [[0.1392617 , 0.48139557, 0.20392159],\n          [0.1449608 , 0.48221573, 0.20392159],\n          [0.13480735, 0.4708385 , 0.20514536],\n          ...,\n          [0.11910462, 0.5376482 , 0.2035861 ],\n          [0.11311574, 0.5306612 , 0.19959351],\n          [0.10712688, 0.5236742 , 0.19560093]],\n \n         [[0.14329536, 0.4834124 , 0.20392159],\n          [0.14193557, 0.47919047, 0.20392159],\n          [0.13279052, 0.46781325, 0.20615378],\n          ...,\n          [0.13094106, 0.5559998 , 0.21601945],\n          [0.12894478, 0.55200726, 0.21302502],\n          [0.12694849, 0.54801464, 0.21003059]],\n \n         [[0.147329  , 0.48542923, 0.20392159],\n          [0.13891032, 0.47616526, 0.20392159],\n          [0.1307737 , 0.46478802, 0.20716219],\n          ...,\n          [0.14111403, 0.568565  , 0.2299821 ],\n          [0.1381196 , 0.5655706 , 0.22598952],\n          [0.13512516, 0.5625762 , 0.22199695]]],\n \n \n        [[[0.1303797 , 0.47598663, 0.17254902],\n          [0.1254902 , 0.4784314 , 0.17254902],\n          [0.13118783, 0.4812802 , 0.17682225],\n          ...,\n          [0.13333334, 0.49803925, 0.17254902],\n          [0.13333334, 0.49803925, 0.17254902],\n          [0.13333334, 0.49803925, 0.17254902]],\n \n         [[0.1312917 , 0.47553065, 0.17254902],\n          [0.1254902 , 0.4784314 , 0.17254902],\n          [0.12936383, 0.48036823, 0.17545426],\n          ...,\n          [0.12411239, 0.4842078 , 0.15871759],\n          [0.12230197, 0.4814922 , 0.15600199],\n          [0.12049157, 0.47877657, 0.15328638]],\n \n         [[0.13220368, 0.47507465, 0.17254902],\n          [0.1254902 , 0.4784314 , 0.17254902],\n          [0.12753986, 0.47945622, 0.17408627],\n          ...,\n          [0.11308979, 0.46767393, 0.14446235],\n          [0.11218458, 0.4663161 , 0.14355713],\n          [0.11127938, 0.4649583 , 0.14265193]],\n \n         ...,\n \n         [[0.12895468, 0.5175328 , 0.19977146],\n          [0.12907344, 0.5173088 , 0.19966169],\n          [0.12862085, 0.51685613, 0.19920908],\n          ...,\n          [0.14027251, 0.50150883, 0.18386175],\n          [0.13333334, 0.49803925, 0.1795406 ],\n          [0.13333334, 0.49803925, 0.17254902]],\n \n         [[0.12563108, 0.51386636, 0.19621931],\n          [0.12486675, 0.5140372 , 0.19607845],\n          [0.12396155, 0.5144898 , 0.19607845],\n          ...,\n          [0.14116846, 0.5019648 , 0.18430571],\n          [0.13339378, 0.49806947, 0.18042238],\n          [0.13333334, 0.49803925, 0.17266187]],\n \n         [[0.11798202, 0.5174796 , 0.19607845],\n          [0.11793219, 0.51707685, 0.19579332],\n          [0.11838479, 0.51617163, 0.19534071],\n          ...,\n          [0.14025646, 0.5024208 , 0.18339372],\n          [0.13430576, 0.49852547, 0.18087839],\n          [0.13333334, 0.49803925, 0.17357387]]],\n \n \n        ...,\n \n \n        [[[0.16784693, 0.49569765, 0.17098796],\n          [0.16775182, 0.4954123 , 0.17079772],\n          [0.16698511, 0.49119988, 0.17450893],\n          ...,\n          [0.13577555, 0.44950107, 0.16714811],\n          [0.13725491, 0.45098042, 0.16862746],\n          [0.1323751 , 0.44610062, 0.16130775]],\n \n         [[0.15606897, 0.49176   , 0.17254902],\n          [0.15644944, 0.49195024, 0.17254902],\n          [0.16024044, 0.4887527 , 0.1691385 ],\n          ...,\n          [0.13588083, 0.44960633, 0.16725338],\n          [0.13725491, 0.45098042, 0.16862746],\n          [0.13216457, 0.4458901 , 0.16099195]],\n \n         [[0.16235581, 0.49647254, 0.17882545],\n          [0.16207045, 0.4962823 , 0.17863521],\n          [0.15894552, 0.493272  , 0.17068498],\n          ...,\n          [0.1362839 , 0.4500094 , 0.16765645],\n          [0.138371  , 0.45153847, 0.1691855 ],\n          [0.13242741, 0.4459162 , 0.15992579]],\n \n         ...,\n \n         [[0.15572773, 0.46945325, 0.17639385],\n          [0.15867007, 0.4779542 , 0.18830411],\n          [0.15188521, 0.48556873, 0.19774939],\n          ...,\n          [0.1088001 , 0.47679272, 0.1662026 ],\n          [0.11626493, 0.47912246, 0.16862746],\n          [0.11645517, 0.47902736, 0.16862746]],\n \n         [[0.15526828, 0.4689938 , 0.17603968],\n          [0.15845953, 0.47799703, 0.18780093],\n          [0.15177995, 0.48395208, 0.1949172 ],\n          ...,\n          [0.10883111, 0.48019755, 0.16803074],\n          [0.11049358, 0.48097366, 0.1665585 ],\n          [0.11039846, 0.4811639 , 0.16684386]],\n \n         [[0.15547882, 0.4692043 , 0.17635548],\n          [0.15824899, 0.47831282, 0.18811673],\n          [0.15167467, 0.48374152, 0.19481194],\n          ...,\n          [0.10839188, 0.47102877, 0.16564432],\n          [0.11647845, 0.4724451 , 0.15961571],\n          [0.11609798, 0.4727305 , 0.15923524]]],\n \n \n        [[[0.1480906 , 0.48926708, 0.14323999],\n          [0.14901961, 0.49617645, 0.14808822],\n          [0.1400562 , 0.48907584, 0.1400562 ],\n          ...,\n          [0.13469847, 0.5061468 , 0.18567885],\n          [0.13276671, 0.5038197 , 0.1837471 ],\n          [0.1331756 , 0.5043649 , 0.18415599]],\n \n         [[0.14795713, 0.48913363, 0.14297307],\n          [0.14901961, 0.49590954, 0.14795476],\n          [0.14045659, 0.48947623, 0.14045659],\n          ...,\n          [0.1330879 , 0.51185626, 0.18800065],\n          [0.13483168, 0.5122272 , 0.18823531],\n          [0.13469538, 0.5123635 , 0.18823531]],\n \n         [[0.14782366, 0.48900014, 0.14270614],\n          [0.14901961, 0.4956426 , 0.14782129],\n          [0.14085698, 0.48987663, 0.14085698],\n          ...,\n          [0.12406026, 0.5125956 , 0.18205066],\n          [0.12364952, 0.51130456, 0.17855148],\n          [0.12310434, 0.51116824, 0.1780063 ]],\n \n         ...,\n \n         [[0.12384875, 0.5081625 , 0.166986  ],\n          [0.12371246, 0.50802624, 0.16684972],\n          [0.12260836, 0.51053494, 0.16755202],\n          ...,\n          [0.12256443, 0.49265477, 0.17354482],\n          [0.1205681 , 0.4916566 , 0.1715485 ],\n          [0.11965761, 0.49265954, 0.17209616]],\n \n         [[0.11829028, 0.502604  , 0.15978836],\n          [0.11801769, 0.50233144, 0.15937947],\n          [0.11697136, 0.50544655, 0.16068536],\n          ...,\n          [0.12283136, 0.49278826, 0.17381175],\n          [0.12030116, 0.49152318, 0.17128156],\n          [0.12019147, 0.492793  , 0.17249656]],\n \n         [[0.11208859, 0.49640232, 0.15130427],\n          [0.1119523 , 0.49626607, 0.15116797],\n          [0.11173546, 0.49991804, 0.15403013],\n          ...,\n          [0.12309829, 0.4929217 , 0.17407869],\n          [0.12003424, 0.4913897 , 0.17101464],\n          [0.12072533, 0.49292645, 0.17289695]]],\n \n \n        [[[0.12359813, 0.42948052, 0.1392844 ],\n          [0.1242464 , 0.43012878, 0.13993266],\n          [0.12489466, 0.43077704, 0.14058094],\n          ...,\n          [0.13197881, 0.48384953, 0.1687695 ],\n          [0.13844058, 0.48353863, 0.17236675],\n          [0.12847549, 0.47865394, 0.1663098 ]],\n \n         [[0.11391455, 0.42352945, 0.13426648],\n          [0.11521108, 0.42352945, 0.13394235],\n          [0.1165076 , 0.42352945, 0.1336182 ],\n          ...,\n          [0.13229671, 0.48257786, 0.16781576],\n          [0.13907641, 0.48417446, 0.17332049],\n          [0.12688592, 0.4777002 , 0.16503814]],\n \n         [[0.09827991, 0.42076877, 0.13173358],\n          [0.09957644, 0.42174116, 0.13367838],\n          [0.10087295, 0.42271358, 0.13562314],\n          ...,\n          [0.13261464, 0.48130623, 0.16686203],\n          [0.13971223, 0.4848103 , 0.17427422],\n          [0.12529635, 0.47674647, 0.1637665 ]],\n \n         ...,\n \n         [[0.14501517, 0.51364267, 0.15677989],\n          [0.14131542, 0.5099429 , 0.15308012],\n          [0.14907567, 0.51781523, 0.16095246],\n          ...,\n          [0.12067423, 0.5158583 , 0.1538356 ],\n          [0.1203501 , 0.51521   , 0.15415972],\n          [0.12002596, 0.5145618 , 0.15448385]],\n \n         [[0.14469725, 0.51332474, 0.15646195],\n          [0.14195123, 0.5105787 , 0.15371594],\n          [0.14939357, 0.51876897, 0.1619062 ],\n          ...,\n          [0.12458289, 0.52066135, 0.16198395],\n          [0.12425876, 0.52033716, 0.16101156],\n          [0.12393463, 0.5200131 , 0.16003917]],\n \n         [[0.14437935, 0.5130068 , 0.15614405],\n          [0.14258707, 0.5112145 , 0.15435177],\n          [0.14971149, 0.5197227 , 0.16285993],\n          ...,\n          [0.11948751, 0.5125646 , 0.15870321],\n          [0.12013577, 0.51353705, 0.15935147],\n          [0.12078404, 0.5145094 , 0.15999973]]]], dtype=float32),\n array([2., 0., 1., 2., 1., 2., 0., 0., 2., 0.], dtype=float32))"
     },
     "metadata": {},
     "execution_count": 24
    }
   ],
   "source": [
    "train_data[6]"
   ]
  },
  {
   "cell_type": "code",
   "execution_count": 20,
   "metadata": {},
   "outputs": [
    {
     "output_type": "stream",
     "name": "stdout",
     "text": "[[6.5936804e-02 9.3079734e-01 1.6387773e-01]\n [2.8908253e-06 9.8645687e-06 9.9999702e-01]\n [4.8595667e-04 4.9576759e-03 9.9901938e-01]\n [4.8220158e-05 9.9999726e-01 1.6391277e-06]\n [1.5527010e-05 6.4283609e-05 9.9998999e-01]\n [1.2516975e-06 9.9999905e-01 1.8775463e-05]\n [5.4993391e-02 5.9116346e-01 7.4205995e-01]\n [9.9617982e-01 9.1497898e-03 3.9488077e-04]\n [7.0800769e-01 1.6446790e-01 2.3253614e-01]\n [1.1035094e-01 9.2457807e-01 2.7074376e-02]]\n"
    }
   ],
   "source": [
    "print(classes)"
   ]
  },
  {
   "cell_type": "code",
   "execution_count": null,
   "metadata": {},
   "outputs": [],
   "source": []
  }
 ],
 "metadata": {
  "kernelspec": {
   "display_name": "Python 3.7.4 64-bit",
   "language": "python",
   "name": "python37464bite6db8bd4905c4497a23eeb50e5c99a2b"
  },
  "language_info": {
   "codemirror_mode": {
    "name": "ipython",
    "version": 3
   },
   "file_extension": ".py",
   "mimetype": "text/x-python",
   "name": "python",
   "nbconvert_exporter": "python",
   "pygments_lexer": "ipython3",
   "version": "3.7.4-final"
  }
 },
 "nbformat": 4,
 "nbformat_minor": 2
}